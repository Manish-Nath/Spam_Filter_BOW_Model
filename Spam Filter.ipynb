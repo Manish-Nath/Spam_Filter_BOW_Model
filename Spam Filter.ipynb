{
 "cells": [
  {
   "cell_type": "code",
   "execution_count": 1,
   "id": "1e66f7dd",
   "metadata": {},
   "outputs": [],
   "source": [
    "import numpy as np\n",
    "import pandas as pd\n",
    "import string\n",
    "import matplotlib.pyplot as plt\n"
   ]
  },
  {
   "cell_type": "code",
   "execution_count": 2,
   "id": "9e18ebec",
   "metadata": {},
   "outputs": [],
   "source": [
    "df=pd.read_csv(\"spam.csv\",encoding=\"ISO-8859-1\")"
   ]
  },
  {
   "cell_type": "code",
   "execution_count": 3,
   "id": "c4df54f3",
   "metadata": {},
   "outputs": [
    {
     "data": {
      "text/html": [
       "<div>\n",
       "<style scoped>\n",
       "    .dataframe tbody tr th:only-of-type {\n",
       "        vertical-align: middle;\n",
       "    }\n",
       "\n",
       "    .dataframe tbody tr th {\n",
       "        vertical-align: top;\n",
       "    }\n",
       "\n",
       "    .dataframe thead th {\n",
       "        text-align: right;\n",
       "    }\n",
       "</style>\n",
       "<table border=\"1\" class=\"dataframe\">\n",
       "  <thead>\n",
       "    <tr style=\"text-align: right;\">\n",
       "      <th></th>\n",
       "      <th>v1</th>\n",
       "      <th>v2</th>\n",
       "    </tr>\n",
       "  </thead>\n",
       "  <tbody>\n",
       "    <tr>\n",
       "      <th>0</th>\n",
       "      <td>ham</td>\n",
       "      <td>Go until jurong point, crazy.. Available only ...</td>\n",
       "    </tr>\n",
       "    <tr>\n",
       "      <th>1</th>\n",
       "      <td>ham</td>\n",
       "      <td>Ok lar... Joking wif u oni...</td>\n",
       "    </tr>\n",
       "    <tr>\n",
       "      <th>2</th>\n",
       "      <td>spam</td>\n",
       "      <td>Free entry in 2 a wkly comp to win FA Cup fina...</td>\n",
       "    </tr>\n",
       "    <tr>\n",
       "      <th>3</th>\n",
       "      <td>ham</td>\n",
       "      <td>U dun say so early hor... U c already then say...</td>\n",
       "    </tr>\n",
       "    <tr>\n",
       "      <th>4</th>\n",
       "      <td>ham</td>\n",
       "      <td>Nah I don't think he goes to usf, he lives aro...</td>\n",
       "    </tr>\n",
       "    <tr>\n",
       "      <th>...</th>\n",
       "      <td>...</td>\n",
       "      <td>...</td>\n",
       "    </tr>\n",
       "    <tr>\n",
       "      <th>5567</th>\n",
       "      <td>spam</td>\n",
       "      <td>This is the 2nd time we have tried 2 contact u...</td>\n",
       "    </tr>\n",
       "    <tr>\n",
       "      <th>5568</th>\n",
       "      <td>ham</td>\n",
       "      <td>Will Ì_ b going to esplanade fr home?</td>\n",
       "    </tr>\n",
       "    <tr>\n",
       "      <th>5569</th>\n",
       "      <td>ham</td>\n",
       "      <td>Pity, * was in mood for that. So...any other s...</td>\n",
       "    </tr>\n",
       "    <tr>\n",
       "      <th>5570</th>\n",
       "      <td>ham</td>\n",
       "      <td>The guy did some bitching but I acted like i'd...</td>\n",
       "    </tr>\n",
       "    <tr>\n",
       "      <th>5571</th>\n",
       "      <td>ham</td>\n",
       "      <td>Rofl. Its true to its name</td>\n",
       "    </tr>\n",
       "  </tbody>\n",
       "</table>\n",
       "<p>5572 rows × 2 columns</p>\n",
       "</div>"
      ],
      "text/plain": [
       "        v1                                                 v2\n",
       "0      ham  Go until jurong point, crazy.. Available only ...\n",
       "1      ham                      Ok lar... Joking wif u oni...\n",
       "2     spam  Free entry in 2 a wkly comp to win FA Cup fina...\n",
       "3      ham  U dun say so early hor... U c already then say...\n",
       "4      ham  Nah I don't think he goes to usf, he lives aro...\n",
       "...    ...                                                ...\n",
       "5567  spam  This is the 2nd time we have tried 2 contact u...\n",
       "5568   ham              Will Ì_ b going to esplanade fr home?\n",
       "5569   ham  Pity, * was in mood for that. So...any other s...\n",
       "5570   ham  The guy did some bitching but I acted like i'd...\n",
       "5571   ham                         Rofl. Its true to its name\n",
       "\n",
       "[5572 rows x 2 columns]"
      ]
     },
     "execution_count": 3,
     "metadata": {},
     "output_type": "execute_result"
    }
   ],
   "source": [
    "df=df[['v1','v2']]\n",
    "df"
   ]
  },
  {
   "cell_type": "code",
   "execution_count": 4,
   "id": "47d2980e",
   "metadata": {},
   "outputs": [
    {
     "data": {
      "text/html": [
       "<div>\n",
       "<style scoped>\n",
       "    .dataframe tbody tr th:only-of-type {\n",
       "        vertical-align: middle;\n",
       "    }\n",
       "\n",
       "    .dataframe tbody tr th {\n",
       "        vertical-align: top;\n",
       "    }\n",
       "\n",
       "    .dataframe thead th {\n",
       "        text-align: right;\n",
       "    }\n",
       "</style>\n",
       "<table border=\"1\" class=\"dataframe\">\n",
       "  <thead>\n",
       "    <tr style=\"text-align: right;\">\n",
       "      <th></th>\n",
       "      <th>spam</th>\n",
       "      <th>text</th>\n",
       "    </tr>\n",
       "  </thead>\n",
       "  <tbody>\n",
       "    <tr>\n",
       "      <th>0</th>\n",
       "      <td>ham</td>\n",
       "      <td>Go until jurong point, crazy.. Available only ...</td>\n",
       "    </tr>\n",
       "    <tr>\n",
       "      <th>1</th>\n",
       "      <td>ham</td>\n",
       "      <td>Ok lar... Joking wif u oni...</td>\n",
       "    </tr>\n",
       "    <tr>\n",
       "      <th>2</th>\n",
       "      <td>spam</td>\n",
       "      <td>Free entry in 2 a wkly comp to win FA Cup fina...</td>\n",
       "    </tr>\n",
       "    <tr>\n",
       "      <th>3</th>\n",
       "      <td>ham</td>\n",
       "      <td>U dun say so early hor... U c already then say...</td>\n",
       "    </tr>\n",
       "    <tr>\n",
       "      <th>4</th>\n",
       "      <td>ham</td>\n",
       "      <td>Nah I don't think he goes to usf, he lives aro...</td>\n",
       "    </tr>\n",
       "    <tr>\n",
       "      <th>...</th>\n",
       "      <td>...</td>\n",
       "      <td>...</td>\n",
       "    </tr>\n",
       "    <tr>\n",
       "      <th>5567</th>\n",
       "      <td>spam</td>\n",
       "      <td>This is the 2nd time we have tried 2 contact u...</td>\n",
       "    </tr>\n",
       "    <tr>\n",
       "      <th>5568</th>\n",
       "      <td>ham</td>\n",
       "      <td>Will Ì_ b going to esplanade fr home?</td>\n",
       "    </tr>\n",
       "    <tr>\n",
       "      <th>5569</th>\n",
       "      <td>ham</td>\n",
       "      <td>Pity, * was in mood for that. So...any other s...</td>\n",
       "    </tr>\n",
       "    <tr>\n",
       "      <th>5570</th>\n",
       "      <td>ham</td>\n",
       "      <td>The guy did some bitching but I acted like i'd...</td>\n",
       "    </tr>\n",
       "    <tr>\n",
       "      <th>5571</th>\n",
       "      <td>ham</td>\n",
       "      <td>Rofl. Its true to its name</td>\n",
       "    </tr>\n",
       "  </tbody>\n",
       "</table>\n",
       "<p>5572 rows × 2 columns</p>\n",
       "</div>"
      ],
      "text/plain": [
       "      spam                                               text\n",
       "0      ham  Go until jurong point, crazy.. Available only ...\n",
       "1      ham                      Ok lar... Joking wif u oni...\n",
       "2     spam  Free entry in 2 a wkly comp to win FA Cup fina...\n",
       "3      ham  U dun say so early hor... U c already then say...\n",
       "4      ham  Nah I don't think he goes to usf, he lives aro...\n",
       "...    ...                                                ...\n",
       "5567  spam  This is the 2nd time we have tried 2 contact u...\n",
       "5568   ham              Will Ì_ b going to esplanade fr home?\n",
       "5569   ham  Pity, * was in mood for that. So...any other s...\n",
       "5570   ham  The guy did some bitching but I acted like i'd...\n",
       "5571   ham                         Rofl. Its true to its name\n",
       "\n",
       "[5572 rows x 2 columns]"
      ]
     },
     "execution_count": 4,
     "metadata": {},
     "output_type": "execute_result"
    }
   ],
   "source": [
    "df=df.rename(columns={'v1':\"spam\",'v2':'text'})\n",
    "df"
   ]
  },
  {
   "cell_type": "code",
   "execution_count": 5,
   "id": "0ecbaa8c",
   "metadata": {},
   "outputs": [
    {
     "data": {
      "text/html": [
       "<div>\n",
       "<style scoped>\n",
       "    .dataframe tbody tr th:only-of-type {\n",
       "        vertical-align: middle;\n",
       "    }\n",
       "\n",
       "    .dataframe tbody tr th {\n",
       "        vertical-align: top;\n",
       "    }\n",
       "\n",
       "    .dataframe thead th {\n",
       "        text-align: right;\n",
       "    }\n",
       "</style>\n",
       "<table border=\"1\" class=\"dataframe\">\n",
       "  <thead>\n",
       "    <tr style=\"text-align: right;\">\n",
       "      <th></th>\n",
       "      <th>spam</th>\n",
       "      <th>text</th>\n",
       "    </tr>\n",
       "  </thead>\n",
       "  <tbody>\n",
       "    <tr>\n",
       "      <th>0</th>\n",
       "      <td>False</td>\n",
       "      <td>Go until jurong point, crazy.. Available only ...</td>\n",
       "    </tr>\n",
       "    <tr>\n",
       "      <th>1</th>\n",
       "      <td>False</td>\n",
       "      <td>Ok lar... Joking wif u oni...</td>\n",
       "    </tr>\n",
       "    <tr>\n",
       "      <th>2</th>\n",
       "      <td>True</td>\n",
       "      <td>Free entry in 2 a wkly comp to win FA Cup fina...</td>\n",
       "    </tr>\n",
       "    <tr>\n",
       "      <th>3</th>\n",
       "      <td>False</td>\n",
       "      <td>U dun say so early hor... U c already then say...</td>\n",
       "    </tr>\n",
       "    <tr>\n",
       "      <th>4</th>\n",
       "      <td>False</td>\n",
       "      <td>Nah I don't think he goes to usf, he lives aro...</td>\n",
       "    </tr>\n",
       "    <tr>\n",
       "      <th>...</th>\n",
       "      <td>...</td>\n",
       "      <td>...</td>\n",
       "    </tr>\n",
       "    <tr>\n",
       "      <th>5567</th>\n",
       "      <td>True</td>\n",
       "      <td>This is the 2nd time we have tried 2 contact u...</td>\n",
       "    </tr>\n",
       "    <tr>\n",
       "      <th>5568</th>\n",
       "      <td>False</td>\n",
       "      <td>Will Ì_ b going to esplanade fr home?</td>\n",
       "    </tr>\n",
       "    <tr>\n",
       "      <th>5569</th>\n",
       "      <td>False</td>\n",
       "      <td>Pity, * was in mood for that. So...any other s...</td>\n",
       "    </tr>\n",
       "    <tr>\n",
       "      <th>5570</th>\n",
       "      <td>False</td>\n",
       "      <td>The guy did some bitching but I acted like i'd...</td>\n",
       "    </tr>\n",
       "    <tr>\n",
       "      <th>5571</th>\n",
       "      <td>False</td>\n",
       "      <td>Rofl. Its true to its name</td>\n",
       "    </tr>\n",
       "  </tbody>\n",
       "</table>\n",
       "<p>5572 rows × 2 columns</p>\n",
       "</div>"
      ],
      "text/plain": [
       "       spam                                               text\n",
       "0     False  Go until jurong point, crazy.. Available only ...\n",
       "1     False                      Ok lar... Joking wif u oni...\n",
       "2      True  Free entry in 2 a wkly comp to win FA Cup fina...\n",
       "3     False  U dun say so early hor... U c already then say...\n",
       "4     False  Nah I don't think he goes to usf, he lives aro...\n",
       "...     ...                                                ...\n",
       "5567   True  This is the 2nd time we have tried 2 contact u...\n",
       "5568  False              Will Ì_ b going to esplanade fr home?\n",
       "5569  False  Pity, * was in mood for that. So...any other s...\n",
       "5570  False  The guy did some bitching but I acted like i'd...\n",
       "5571  False                         Rofl. Its true to its name\n",
       "\n",
       "[5572 rows x 2 columns]"
      ]
     },
     "execution_count": 5,
     "metadata": {},
     "output_type": "execute_result"
    }
   ],
   "source": [
    "df.spam=df.spam.apply(lambda s: True if s=='spam' else False)\n",
    "df"
   ]
  },
  {
   "cell_type": "code",
   "execution_count": 6,
   "id": "245159f0",
   "metadata": {},
   "outputs": [
    {
     "data": {
      "text/html": [
       "<div>\n",
       "<style scoped>\n",
       "    .dataframe tbody tr th:only-of-type {\n",
       "        vertical-align: middle;\n",
       "    }\n",
       "\n",
       "    .dataframe tbody tr th {\n",
       "        vertical-align: top;\n",
       "    }\n",
       "\n",
       "    .dataframe thead th {\n",
       "        text-align: right;\n",
       "    }\n",
       "</style>\n",
       "<table border=\"1\" class=\"dataframe\">\n",
       "  <thead>\n",
       "    <tr style=\"text-align: right;\">\n",
       "      <th></th>\n",
       "      <th>spam</th>\n",
       "      <th>text</th>\n",
       "    </tr>\n",
       "  </thead>\n",
       "  <tbody>\n",
       "    <tr>\n",
       "      <th>0</th>\n",
       "      <td>False</td>\n",
       "      <td>go until jurong point crazy available only in ...</td>\n",
       "    </tr>\n",
       "    <tr>\n",
       "      <th>1</th>\n",
       "      <td>False</td>\n",
       "      <td>ok lar joking wif u oni</td>\n",
       "    </tr>\n",
       "    <tr>\n",
       "      <th>2</th>\n",
       "      <td>True</td>\n",
       "      <td>free entry in 2 a wkly comp to win fa cup fina...</td>\n",
       "    </tr>\n",
       "    <tr>\n",
       "      <th>3</th>\n",
       "      <td>False</td>\n",
       "      <td>u dun say so early hor u c already then say</td>\n",
       "    </tr>\n",
       "    <tr>\n",
       "      <th>4</th>\n",
       "      <td>False</td>\n",
       "      <td>nah i dont think he goes to usf he lives aroun...</td>\n",
       "    </tr>\n",
       "    <tr>\n",
       "      <th>...</th>\n",
       "      <td>...</td>\n",
       "      <td>...</td>\n",
       "    </tr>\n",
       "    <tr>\n",
       "      <th>5567</th>\n",
       "      <td>True</td>\n",
       "      <td>this is the 2nd time we have tried 2 contact u...</td>\n",
       "    </tr>\n",
       "    <tr>\n",
       "      <th>5568</th>\n",
       "      <td>False</td>\n",
       "      <td>will ì b going to esplanade fr home</td>\n",
       "    </tr>\n",
       "    <tr>\n",
       "      <th>5569</th>\n",
       "      <td>False</td>\n",
       "      <td>pity  was in mood for that soany other suggest...</td>\n",
       "    </tr>\n",
       "    <tr>\n",
       "      <th>5570</th>\n",
       "      <td>False</td>\n",
       "      <td>the guy did some bitching but i acted like id ...</td>\n",
       "    </tr>\n",
       "    <tr>\n",
       "      <th>5571</th>\n",
       "      <td>False</td>\n",
       "      <td>rofl its true to its name</td>\n",
       "    </tr>\n",
       "  </tbody>\n",
       "</table>\n",
       "<p>5572 rows × 2 columns</p>\n",
       "</div>"
      ],
      "text/plain": [
       "       spam                                               text\n",
       "0     False  go until jurong point crazy available only in ...\n",
       "1     False                            ok lar joking wif u oni\n",
       "2      True  free entry in 2 a wkly comp to win fa cup fina...\n",
       "3     False        u dun say so early hor u c already then say\n",
       "4     False  nah i dont think he goes to usf he lives aroun...\n",
       "...     ...                                                ...\n",
       "5567   True  this is the 2nd time we have tried 2 contact u...\n",
       "5568  False                will ì b going to esplanade fr home\n",
       "5569  False  pity  was in mood for that soany other suggest...\n",
       "5570  False  the guy did some bitching but i acted like id ...\n",
       "5571  False                          rofl its true to its name\n",
       "\n",
       "[5572 rows x 2 columns]"
      ]
     },
     "execution_count": 6,
     "metadata": {},
     "output_type": "execute_result"
    }
   ],
   "source": [
    "df.text=df.text.str.lower().str.translate(str.maketrans('', '', string.punctuation))\n",
    "df"
   ]
  },
  {
   "cell_type": "code",
   "execution_count": 7,
   "id": "ec8aab29",
   "metadata": {},
   "outputs": [
    {
     "data": {
      "text/html": [
       "<div>\n",
       "<style scoped>\n",
       "    .dataframe tbody tr th:only-of-type {\n",
       "        vertical-align: middle;\n",
       "    }\n",
       "\n",
       "    .dataframe tbody tr th {\n",
       "        vertical-align: top;\n",
       "    }\n",
       "\n",
       "    .dataframe thead th {\n",
       "        text-align: right;\n",
       "    }\n",
       "</style>\n",
       "<table border=\"1\" class=\"dataframe\">\n",
       "  <thead>\n",
       "    <tr style=\"text-align: right;\">\n",
       "      <th></th>\n",
       "      <th>spam</th>\n",
       "      <th>text</th>\n",
       "    </tr>\n",
       "  </thead>\n",
       "  <tbody>\n",
       "    <tr>\n",
       "      <th>2664</th>\n",
       "      <td>False</td>\n",
       "      <td>he remains a bro amongst bros</td>\n",
       "    </tr>\n",
       "    <tr>\n",
       "      <th>5568</th>\n",
       "      <td>False</td>\n",
       "      <td>will ì b going to esplanade fr home</td>\n",
       "    </tr>\n",
       "    <tr>\n",
       "      <th>4966</th>\n",
       "      <td>True</td>\n",
       "      <td>you can donate å£250 to unicefs asian tsunami ...</td>\n",
       "    </tr>\n",
       "    <tr>\n",
       "      <th>4843</th>\n",
       "      <td>True</td>\n",
       "      <td>you have won as a valued vodafone customer our...</td>\n",
       "    </tr>\n",
       "    <tr>\n",
       "      <th>3723</th>\n",
       "      <td>True</td>\n",
       "      <td>hi there 2nights ur lucky night uve been invit...</td>\n",
       "    </tr>\n",
       "    <tr>\n",
       "      <th>...</th>\n",
       "      <td>...</td>\n",
       "      <td>...</td>\n",
       "    </tr>\n",
       "    <tr>\n",
       "      <th>956</th>\n",
       "      <td>False</td>\n",
       "      <td>love isnt a decision its a feeling if we could...</td>\n",
       "    </tr>\n",
       "    <tr>\n",
       "      <th>5442</th>\n",
       "      <td>False</td>\n",
       "      <td>i thought id get him a watch just cos thats th...</td>\n",
       "    </tr>\n",
       "    <tr>\n",
       "      <th>4991</th>\n",
       "      <td>False</td>\n",
       "      <td>im hungry buy smth home</td>\n",
       "    </tr>\n",
       "    <tr>\n",
       "      <th>2757</th>\n",
       "      <td>False</td>\n",
       "      <td>yo we are watching a movie on netflix</td>\n",
       "    </tr>\n",
       "    <tr>\n",
       "      <th>3013</th>\n",
       "      <td>False</td>\n",
       "      <td>i might go 2 sch yar at e salon now v boring</td>\n",
       "    </tr>\n",
       "  </tbody>\n",
       "</table>\n",
       "<p>5572 rows × 2 columns</p>\n",
       "</div>"
      ],
      "text/plain": [
       "       spam                                               text\n",
       "2664  False                      he remains a bro amongst bros\n",
       "5568  False                will ì b going to esplanade fr home\n",
       "4966   True  you can donate å£250 to unicefs asian tsunami ...\n",
       "4843   True  you have won as a valued vodafone customer our...\n",
       "3723   True  hi there 2nights ur lucky night uve been invit...\n",
       "...     ...                                                ...\n",
       "956   False  love isnt a decision its a feeling if we could...\n",
       "5442  False  i thought id get him a watch just cos thats th...\n",
       "4991  False                            im hungry buy smth home\n",
       "2757  False              yo we are watching a movie on netflix\n",
       "3013  False       i might go 2 sch yar at e salon now v boring\n",
       "\n",
       "[5572 rows x 2 columns]"
      ]
     },
     "execution_count": 7,
     "metadata": {},
     "output_type": "execute_result"
    }
   ],
   "source": [
    "df=df.sample(frac=1)\n",
    "df"
   ]
  },
  {
   "cell_type": "code",
   "execution_count": 8,
   "id": "f0eb700e",
   "metadata": {},
   "outputs": [
    {
     "name": "stdout",
     "output_type": "stream",
     "text": [
      "you can donate å£250 to unicefs asian tsunami disaster support fund by texting donate to 864233 å£250 will be added to your next bill\n",
      "----------\n",
      "you have won as a valued vodafone customer our computer has picked you to win a å£150 prize to collect is easy just call 09061743386 \n",
      "----------\n",
      "hi there 2nights ur lucky night uve been invited 2 xchat the uks wildest chat txt chat to 86688 now 150pmsgrcvdhgsuite3422landsroww1j6hl ldn 18yrs\n",
      "----------\n",
      "win a year supply of cds 4 a store of ur choice worth å£500  enter our å£100 weekly draw txt music to 87066 tscs wwwldewcomsubs161win150ppmx3\n",
      "----------\n",
      "the current leading bid is 151 to pause this auction send out customer care 08718726270\n",
      "----------\n"
     ]
    }
   ],
   "source": [
    "for i in df.loc[df.spam[df.spam==True].iloc[:5].index, 'text']:\n",
    "    print(i)\n",
    "    print(\"----------\")\n"
   ]
  },
  {
   "cell_type": "code",
   "execution_count": 9,
   "id": "1b1b610a",
   "metadata": {},
   "outputs": [
    {
     "name": "stdout",
     "output_type": "stream",
     "text": [
      "he remains a bro amongst bros\n",
      "----------\n",
      "will ì b going to esplanade fr home\n",
      "----------\n",
      "ok c ya\n",
      "----------\n",
      "ìï come lt 25 n pass to me lar\n",
      "----------\n",
      "will do was exhausted on train this morning too much wine and pie you sleep well too\n",
      "----------\n"
     ]
    }
   ],
   "source": [
    "for i in df.loc[df.spam[df.spam==False].iloc[:5].index, 'text']:\n",
    "    print(i)\n",
    "    print(\"----------\")"
   ]
  },
  {
   "cell_type": "code",
   "execution_count": 10,
   "id": "e27d4cf4",
   "metadata": {},
   "outputs": [],
   "source": [
    "training_df=df.iloc[:int(len(df)*0.7)]\n",
    "testing_df=df.iloc[int(len(df)*0.7):]"
   ]
  },
  {
   "cell_type": "code",
   "execution_count": 11,
   "id": "e983d2eb",
   "metadata": {},
   "outputs": [],
   "source": [
    "fraction_spam=training_df.spam.mean()"
   ]
  },
  {
   "cell_type": "code",
   "execution_count": 12,
   "id": "8d7c0fe0",
   "metadata": {},
   "outputs": [],
   "source": [
    "train_spam_words=''.join(training_df[training_df.spam==True].text).split(' ')"
   ]
  },
  {
   "cell_type": "code",
   "execution_count": 13,
   "id": "b837a726",
   "metadata": {},
   "outputs": [],
   "source": [
    "train_nonspam_words=''.join(training_df[training_df.spam==False].text).split(' ')"
   ]
  },
  {
   "cell_type": "code",
   "execution_count": 14,
   "id": "6549a2b2",
   "metadata": {},
   "outputs": [],
   "source": [
    "common_words=set(train_spam_words).intersection(set(train_nonspam_words))"
   ]
  },
  {
   "cell_type": "code",
   "execution_count": 15,
   "id": "6e763e31",
   "metadata": {},
   "outputs": [],
   "source": [
    "train_spam_bow=dict()\n",
    "for w in common_words:\n",
    "    train_spam_bow[w]=train_spam_words.count(w)/len(train_spam_words)"
   ]
  },
  {
   "cell_type": "code",
   "execution_count": 23,
   "id": "695ae2a3",
   "metadata": {},
   "outputs": [],
   "source": [
    "train_nonspam_bow=dict()\n",
    "for w in common_words:\n",
    "    train_nonspam_bow[w]=train_nonspam_words.count(w)/len(train_nonspam_words)"
   ]
  },
  {
   "cell_type": "markdown",
   "id": "25160f59",
   "metadata": {},
   "source": [
    "Predict on Test Set\n",
    "P(SPAM|\"you have won as a valued vodafone customer\")∝ P(\"you have won as a valued vodafone customer\"|SPAM)*P(SPAM)\n",
    "\n",
    " we make IID assumption on the words so it can be written as\n",
    "\n",
    "P(\"You\"|SPAM).P(\"have\"|SPAM)...................P(\"customer\"|SPAM)*P(SPAM)\n",
    "\n",
    "I=ea"
   ]
  },
  {
   "cell_type": "code",
   "execution_count": 17,
   "id": "0e77723e",
   "metadata": {},
   "outputs": [],
   "source": [
    "def predict(t,verbose=False):\n",
    "    valid_words=[w for w in t if w in train_spam_bow]\n",
    "    spam_prob=[train_spam_bow[w] for w in valid_words]\n",
    "    nonspam_prob=[train_nonspam_bow[w] for w in valid_words]\n",
    "    \n",
    "    if verbose:\n",
    "        df=pd.DataFrame()\n",
    "        df['words']=valid_words\n",
    "        df['spam_prob']=spam_prob\n",
    "        df['nonspam_prob']=nonspam_prob\n",
    "        df['ratio']=[s/n if n>0 else np.inf for s,n in zip(spam_prob,nonspam_prob)]\n",
    "        print(df)\n",
    "    \n",
    "    spam_score=sum([np.log(p) for p in spam_prob])+np.log(fraction_spam)\n",
    "    \n",
    "    nonspam_score=sum([np.log(p) for p in nonspam_prob])+(1-np.log(fraction_spam))\n",
    "    \n",
    "    if verbose:\n",
    "        print(\"spam score is :\",spam_score)\n",
    "        print(\"NOn spam score is :\",nonspam_score)\n",
    "    return spam_score>=nonspam_score"
   ]
  },
  {
   "cell_type": "code",
   "execution_count": 18,
   "id": "a27c0a95",
   "metadata": {},
   "outputs": [
    {
     "name": "stdout",
     "output_type": "stream",
     "text": [
      "    words  spam_prob  nonspam_prob      ratio\n",
      "0  urgent   0.000753      0.000022  33.998075\n",
      "1    call   0.019422      0.003302   5.881844\n",
      "2    this   0.005274      0.003590   1.469053\n",
      "3  number   0.001758      0.000643   2.735477\n",
      "spam score is : -24.741342083531464\n",
      "NOn spam score is : -26.389062064519663\n"
     ]
    },
    {
     "data": {
      "text/plain": [
       "True"
      ]
     },
     "execution_count": 18,
     "metadata": {},
     "output_type": "execute_result"
    }
   ],
   "source": [
    "predict(\"urgent call this number\".split(' '),verbose=True)"
   ]
  },
  {
   "cell_type": "code",
   "execution_count": 19,
   "id": "b06d5af2",
   "metadata": {},
   "outputs": [
    {
     "name": "stdout",
     "output_type": "stream",
     "text": [
      "  words  spam_prob  nonspam_prob     ratio\n",
      "0   hey   0.000167      0.000377  0.444419\n",
      "1    do   0.000419      0.005430  0.077093\n",
      "2   you   0.014064      0.026660  0.527540\n",
      "3  want   0.001591      0.002393  0.664571\n",
      "4    to   0.040603      0.024289  1.671641\n",
      "5    go   0.002093      0.003546  0.590244\n",
      "6    to   0.040603      0.024289  1.671641\n",
      "spam score is : -41.77900371762176\n",
      "NOn spam score is : -32.816147407704364\n"
     ]
    },
    {
     "data": {
      "text/plain": [
       "False"
      ]
     },
     "execution_count": 19,
     "metadata": {},
     "output_type": "execute_result"
    }
   ],
   "source": [
    "predict(\"hey do you want to go to rtocinema\".split(' '),verbose=True)"
   ]
  },
  {
   "cell_type": "code",
   "execution_count": 20,
   "id": "52caa685",
   "metadata": {},
   "outputs": [],
   "source": [
    "predictions=testing_df.text.apply(lambda t: predict(t.split()))"
   ]
  },
  {
   "cell_type": "code",
   "execution_count": 21,
   "id": "b49ec521",
   "metadata": {},
   "outputs": [
    {
     "name": "stdout",
     "output_type": "stream",
     "text": [
      "Fraction Spam Correctly Detected: 0.8391304347826087\n"
     ]
    }
   ],
   "source": [
    "recall=np.sum((predictions==True) & testing_df.spam==True)/np.sum(testing_df.spam==True)\n",
    "print('Fraction Spam Correctly Detected: %s'%recall)\n"
   ]
  },
  {
   "cell_type": "code",
   "execution_count": 22,
   "id": "1b8b222b",
   "metadata": {},
   "outputs": [
    {
     "name": "stdout",
     "output_type": "stream",
     "text": [
      "Fraction Valid Messages Sent to Spam: 0.004160887656033287\n"
     ]
    }
   ],
   "source": [
    "fraction_of_valid_messages_sent_to_spam = np.sum((predictions == True) & (testing_df.spam == False)) / np.sum(testing_df.spam == False)\n",
    "print('Fraction Valid Messages Sent to Spam: %s'%fraction_of_valid_messages_sent_to_spam)\n"
   ]
  },
  {
   "cell_type": "code",
   "execution_count": null,
   "id": "72fbb3d0",
   "metadata": {},
   "outputs": [],
   "source": []
  }
 ],
 "metadata": {
  "kernelspec": {
   "display_name": "Python 3 (ipykernel)",
   "language": "python",
   "name": "python3"
  },
  "language_info": {
   "codemirror_mode": {
    "name": "ipython",
    "version": 3
   },
   "file_extension": ".py",
   "mimetype": "text/x-python",
   "name": "python",
   "nbconvert_exporter": "python",
   "pygments_lexer": "ipython3",
   "version": "3.11.4"
  }
 },
 "nbformat": 4,
 "nbformat_minor": 5
}
